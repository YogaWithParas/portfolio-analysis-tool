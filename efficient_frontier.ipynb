{
  "nbformat": 4,
  "nbformat_minor": 0,
  "metadata": {
    "colab": {
      "provenance": [],
      "authorship_tag": "ABX9TyPQuNTk/O2hJSbM/EuFPLFB",
      "include_colab_link": true
    },
    "kernelspec": {
      "name": "python3",
      "display_name": "Python 3"
    },
    "language_info": {
      "name": "python"
    }
  },
  "cells": [
    {
      "cell_type": "markdown",
      "metadata": {
        "id": "view-in-github",
        "colab_type": "text"
      },
      "source": [
        "<a href=\"https://colab.research.google.com/github/YogaWithParas/portfolio-analysis-tool/blob/main/efficient_frontier.ipynb\" target=\"_parent\"><img src=\"https://colab.research.google.com/assets/colab-badge.svg\" alt=\"Open In Colab\"/></a>"
      ]
    },
    {
      "cell_type": "code",
      "execution_count": null,
      "metadata": {
        "id": "2HWfMLUZPadz"
      },
      "outputs": [],
      "source": [
        "import matplotlib.pyplot as plt\n",
        "import pandas as pd\n",
        "\n",
        "def calculate_efficient_frontier(data, num_portfolios=10000, risk_free_rate=0.03):\n",
        "    \"\"\"\n",
        "    Calculate the efficient frontier by simulating a large number of portfolios.\n",
        "\n",
        "    Parameters:\n",
        "        data (DataFrame): Historical price data for assets.\n",
        "        num_portfolios (int): Number of simulated portfolios.\n",
        "        risk_free_rate (float): Risk-free rate for calculating Sharpe ratio.\n",
        "\n",
        "    Returns:\n",
        "        dict: Contains portfolio returns, risks, weights, and Sharpe ratios.\n",
        "    \"\"\"\n",
        "    # Calculate periodic returns\n",
        "    returns = data.pct_change().dropna()\n",
        "\n",
        "    # Calculate annualized return and covariance matrix\n",
        "    mean_returns = returns.mean() * 12\n",
        "    cov_matrix = returns.cov() * 12\n",
        "\n",
        "    num_assets = len(mean_returns)\n",
        "    results = {\n",
        "        \"returns\": [],\n",
        "        \"risks\": [],\n",
        "        \"sharpe_ratios\": [],\n",
        "        \"weights\": []\n",
        "    }\n",
        "\n",
        "    for _ in range(num_portfolios):\n",
        "        # Random weights\n",
        "        weights = np.random.random(num_assets)\n",
        "        weights /= np.sum(weights)\n",
        "\n",
        "        # Portfolio metrics\n",
        "        portfolio_return = np.dot(weights, mean_returns)\n",
        "        portfolio_risk = np.sqrt(np.dot(weights.T, np.dot(cov_matrix, weights)))\n",
        "        sharpe_ratio = (portfolio_return - risk_free_rate) / portfolio_risk\n",
        "\n",
        "        # Append results\n",
        "        results[\"returns\"].append(portfolio_return)\n",
        "        results[\"risks\"].append(portfolio_risk)\n",
        "        results[\"sharpe_ratios\"].append(sharpe_ratio)\n",
        "        results[\"weights\"].append(weights)\n",
        "\n",
        "    return results\n",
        "\n",
        "def plot_efficient_frontier(results, portfolio_metrics):\n",
        "    \"\"\"\n",
        "    Plot the efficient frontier and highlight the given portfolio.\n",
        "\n",
        "    Parameters:\n",
        "        results (dict): Efficient frontier simulation results.\n",
        "        portfolio_metrics (dict): Metrics of the given portfolio.\n",
        "    \"\"\"\n",
        "    plt.figure(figsize=(10, 6))\n",
        "\n",
        "    # Scatter plot of the efficient frontier\n",
        "    plt.scatter(\n",
        "        results[\"risks\"], results[\"returns\"], c=results[\"sharpe_ratios\"], cmap=\"viridis\",\n",
        "        edgecolors=\"k\", marker=\"o\", alpha=0.6, label=\"Efficient Frontier\"\n",
        "    )\n",
        "    plt.colorbar(label=\"Sharpe Ratio\")\n",
        "\n",
        "    # Highlight the given portfolio\n",
        "    plt.scatter(\n",
        "        portfolio_metrics[\"Risk (Annualized Std Dev)\"],\n",
        "        portfolio_metrics[\"Expected Return (CAGR)\"],\n",
        "        color=\"red\", s=100, edgecolors=\"k\", label=\"Your Portfolio\"\n",
        "    )\n",
        "\n",
        "    plt.title(\"Efficient Frontier with Portfolio Highlight\")\n",
        "    plt.xlabel(\"Risk (Annualized Std Dev)\")\n",
        "    plt.ylabel(\"Return (CAGR)\")\n",
        "    plt.legend()\n",
        "    plt.grid()\n",
        "    plt.show()\n"
      ]
    }
  ]
}